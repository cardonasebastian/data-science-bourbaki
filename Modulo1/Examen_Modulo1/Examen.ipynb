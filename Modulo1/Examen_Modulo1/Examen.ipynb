{
  "nbformat": 4,
  "nbformat_minor": 0,
  "metadata": {
    "colab": {
      "provenance": [],
      "mount_file_id": "1Au94vKNTWiToFshLJoQReW7CT1TsJ0iA",
      "authorship_tag": "ABX9TyNp4iEY0ocbTRx2znRnzaQ5",
      "include_colab_link": true
    },
    "kernelspec": {
      "name": "python3",
      "display_name": "Python 3"
    },
    "language_info": {
      "name": "python"
    }
  },
  "cells": [
    {
      "cell_type": "markdown",
      "metadata": {
        "id": "view-in-github",
        "colab_type": "text"
      },
      "source": [
        "<a href=\"https://colab.research.google.com/github/cardonasebastian/data-science-bourbaki/blob/main/Modulo1/Examen_Modulo1/Examen.ipynb\" target=\"_parent\"><img src=\"https://colab.research.google.com/assets/colab-badge.svg\" alt=\"Open In Colab\"/></a>"
      ]
    },
    {
      "cell_type": "markdown",
      "source": [
        "# Examen Modulo 1."
      ],
      "metadata": {
        "id": "b5DHtRU3pvc7"
      }
    },
    {
      "cell_type": "markdown",
      "source": [
        "## Paso 1. Cargar librerías y módulos requerdidos"
      ],
      "metadata": {
        "id": "bBSBIcppqBwk"
      }
    },
    {
      "cell_type": "code",
      "execution_count": null,
      "metadata": {
        "id": "l4IiG4RJptzY"
      },
      "outputs": [],
      "source": [
        "import random        # Módulo para aleatorizar.\n",
        "import pickle        # Módulo para respaldar objetos de pyhton como cadenas de bytes\n",
        "                     # (serialización de objetos).\n",
        "\n",
        "import numpy as np   # Biblioteca para manejar matrices y operaciones de matrices\n",
        "import pandas as pd  # Biblioteca para manejar tablas de datos.\n",
        "\n",
        "# Sklearn (Scikit-learn) es la  principal biblioteca para machine learning.\n",
        "from sklearn.model_selection import train_test_split\n",
        "from sklearn.linear_model import Perceptron\n",
        "\n",
        "# Bibliotecas para gráficar y visualizar.\n",
        "import matplotlib.pyplot as plt\n",
        "import seaborn as sns"
      ]
    },
    {
      "cell_type": "markdown",
      "source": [
        "## Paso 2. Leer datos desde Drive"
      ],
      "metadata": {
        "id": "jUAUKv9mtihD"
      }
    },
    {
      "cell_type": "code",
      "source": [
        "df = pd.read_csv(\"/content/drive/MyDrive/Curso_Ciencia_De_Datos/Examen_Modulo1/Datos/FraudeCanastas.csv\")\n",
        "\n"
      ],
      "metadata": {
        "id": "HimXOZ4LvRso"
      },
      "execution_count": null,
      "outputs": []
    }
  ]
}